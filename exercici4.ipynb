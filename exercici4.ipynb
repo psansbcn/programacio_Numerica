{
 "cells": [
  {
   "cell_type": "markdown",
   "id": "ca5accc3",
   "metadata": {},
   "source": [
    "### Exercici 4"
   ]
  },
  {
   "cell_type": "markdown",
   "id": "0ca222e7",
   "metadata": {},
   "source": [
    "#### Implementa manualment una funció que calculi el coeficient de correlació. Informa’t-en sobre els seus usos i interpretació"
   ]
  },
  {
   "cell_type": "code",
   "execution_count": 3,
   "id": "dd98c246",
   "metadata": {},
   "outputs": [],
   "source": [
    "import numpy as np"
   ]
  },
  {
   "cell_type": "code",
   "execution_count": 4,
   "id": "3a143ba3",
   "metadata": {},
   "outputs": [],
   "source": [
    "def pearson(cc,dd):\n",
    "    sp=0\n",
    "    for c3,d3 in zip(cc,dd):\n",
    "        corr=(c3-np.mean(cc))*(d3-np.mean(dd))\n",
    "        sp=sp+corr\n",
    "\n",
    "    c2, d2 = 0,0\n",
    "    for c,d in zip(cc,dd):\n",
    "        c1=(c-np.mean(cc))**2\n",
    "        c2=c2+c1\n",
    "        d1=(d-np.mean(dd))**2\n",
    "        d2=d2+d1\n",
    "\n",
    "    r=sp /((c2**0.5)*(d2**0.5))\n",
    "    print(r)\n",
    "    if r > 0.4:\n",
    "        print('alta dependència')\n",
    "    elif r < -0.4:\n",
    "        print('alta dependència negativa')\n",
    "    else:\n",
    "        print('poca dependència')"
   ]
  },
  {
   "cell_type": "code",
   "execution_count": 5,
   "id": "f67fc573",
   "metadata": {},
   "outputs": [
    {
     "name": "stdout",
     "output_type": "stream",
     "text": [
      "2.6839296252979995e-17\n",
      "poca dependència\n"
     ]
    }
   ],
   "source": [
    "pearson([1,8,1,1,1,3,1,1,1],[9,9,9,9,1,1,9,9,9])"
   ]
  },
  {
   "cell_type": "code",
   "execution_count": 6,
   "id": "09b8b80a",
   "metadata": {},
   "outputs": [
    {
     "name": "stdout",
     "output_type": "stream",
     "text": [
      "0.9701425001453319\n",
      "alta dependència\n"
     ]
    }
   ],
   "source": [
    "pearson([1,2,3,4,5],[6,6,7,8,9])"
   ]
  },
  {
   "cell_type": "code",
   "execution_count": 7,
   "id": "5b1d5380",
   "metadata": {},
   "outputs": [
    {
     "name": "stdout",
     "output_type": "stream",
     "text": [
      "-0.6546536707079771\n",
      "alta dependència negativa\n"
     ]
    }
   ],
   "source": [
    "pearson([10, 30 , 20],[40, 20, 50])"
   ]
  },
  {
   "cell_type": "code",
   "execution_count": 13,
   "id": "d520c90c",
   "metadata": {},
   "outputs": [],
   "source": [
    "def pearson1(cc,dd):\n",
    "    cov=np.cov(cc,dd, bias=True)\n",
    "    std=(np.std(cc)) * (np.std(dd))\n",
    "    rr= np.cov(cc, dd, bias = True) / (np.std(cc) * np.std(dd))\n",
    "    print(rr)"
   ]
  },
  {
   "cell_type": "code",
   "execution_count": 14,
   "id": "58f4e96e",
   "metadata": {},
   "outputs": [
    {
     "name": "stdout",
     "output_type": "stream",
     "text": [
      "[[6.64803945e-01 2.68392963e-17]\n",
      " [2.68392963e-17 1.50420287e+00]]\n"
     ]
    }
   ],
   "source": [
    "pearson1([1,8,1,1,1,3,1,1,1],[9,9,9,9,1,1,9,9,9])"
   ]
  },
  {
   "cell_type": "code",
   "execution_count": 15,
   "id": "b170570b",
   "metadata": {},
   "outputs": [
    {
     "name": "stdout",
     "output_type": "stream",
     "text": [
      "[[1.21267813 0.9701425 ]\n",
      " [0.9701425  0.82462113]]\n"
     ]
    }
   ],
   "source": [
    "pearson1([1,2,3,4,5],[6,6,7,8,9])"
   ]
  },
  {
   "cell_type": "code",
   "execution_count": null,
   "id": "a7b5f27e",
   "metadata": {},
   "outputs": [],
   "source": []
  }
 ],
 "metadata": {
  "kernelspec": {
   "display_name": "Python 3",
   "language": "python",
   "name": "python3"
  },
  "language_info": {
   "codemirror_mode": {
    "name": "ipython",
    "version": 3
   },
   "file_extension": ".py",
   "mimetype": "text/x-python",
   "name": "python",
   "nbconvert_exporter": "python",
   "pygments_lexer": "ipython3",
   "version": "3.8.5"
  }
 },
 "nbformat": 4,
 "nbformat_minor": 5
}
