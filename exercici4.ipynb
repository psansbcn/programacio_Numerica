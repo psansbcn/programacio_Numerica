{
 "cells": [
  {
   "cell_type": "markdown",
   "id": "ca5accc3",
   "metadata": {},
   "source": [
    "### Exercici 4"
   ]
  },
  {
   "cell_type": "markdown",
   "id": "0ca222e7",
   "metadata": {},
   "source": [
    "#### Implementa manualment una funció que calculi el coeficient de correlació. Informa’t-en sobre els seus usos i interpretació"
   ]
  },
  {
   "cell_type": "code",
   "execution_count": null,
   "id": "dd98c246",
   "metadata": {},
   "outputs": [],
   "source": [
    "import numpy as np"
   ]
  },
  {
   "cell_type": "code",
   "execution_count": null,
   "id": "3a143ba3",
   "metadata": {},
   "outputs": [],
   "source": [
    "def coeficient(aa,bb):\n",
    "    coef = np.corrcoef(aa, bb)\n",
    "    print(coef)\n",
    "    print(coef[0, 1])\n",
    "    if coef[0, 1] > 0.4:\n",
    "        print('alta dependència')\n",
    "    elif coef[0, 1] < -0.4:\n",
    "        print('alta dependència negativa')\n",
    "    else:\n",
    "        print('poca dependència')"
   ]
  },
  {
   "cell_type": "code",
   "execution_count": null,
   "id": "ba2418ce",
   "metadata": {},
   "outputs": [],
   "source": [
    "coeficient([1,8,1,1,1,3,1,1,1],[9,9,9,9,1,1,9,9,9])"
   ]
  },
  {
   "cell_type": "code",
   "execution_count": null,
   "id": "790361ee",
   "metadata": {},
   "outputs": [],
   "source": [
    "coeficient([1,2,3,4,5],[6,6,7,8,9])"
   ]
  },
  {
   "cell_type": "code",
   "execution_count": null,
   "id": "9ae690f7",
   "metadata": {},
   "outputs": [],
   "source": []
  }
 ],
 "metadata": {
  "kernelspec": {
   "display_name": "Python 3",
   "language": "python",
   "name": "python3"
  },
  "language_info": {
   "codemirror_mode": {
    "name": "ipython",
    "version": 3
   },
   "file_extension": ".py",
   "mimetype": "text/x-python",
   "name": "python",
   "nbconvert_exporter": "python",
   "pygments_lexer": "ipython3",
   "version": "3.8.5"
  }
 },
 "nbformat": 4,
 "nbformat_minor": 5
}
