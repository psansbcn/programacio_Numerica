{
 "cells": [
  {
   "cell_type": "markdown",
   "id": "f0df6ebd",
   "metadata": {},
   "source": [
    "### Exercici 3"
   ]
  },
  {
   "cell_type": "markdown",
   "id": "f65bb768",
   "metadata": {},
   "source": [
    "#### Crea una funció que donada una taula de dues dimensions, et calculi els totals per fila i els totals per columna"
   ]
  },
  {
   "cell_type": "code",
   "execution_count": null,
   "id": "c14fe320",
   "metadata": {},
   "outputs": [],
   "source": [
    "import numpy as np"
   ]
  },
  {
   "cell_type": "code",
   "execution_count": null,
   "id": "f4860dd9",
   "metadata": {},
   "outputs": [],
   "source": [
    "def sumes(ff,cc):\n",
    "    arr1 = np.random.randint(51, size=(ff, cc))\n",
    "    print(arr1)\n",
    "    cols=np.sum(arr1, axis=0)\n",
    "    count1=0\n",
    "    for c in cols:\n",
    "        print('la columna',count1,'suma',c)\n",
    "        count1=count1+1\n",
    "    rows=np.sum(arr1, axis=1)\n",
    "    count2=0\n",
    "    for f in rows:\n",
    "        print('la fila',count2,'suma',f)\n",
    "        count2=count2+1"
   ]
  },
  {
   "cell_type": "code",
   "execution_count": null,
   "id": "9ca5de03",
   "metadata": {},
   "outputs": [],
   "source": [
    "sumes(5,6)"
   ]
  },
  {
   "cell_type": "code",
   "execution_count": null,
   "id": "de77c061",
   "metadata": {},
   "outputs": [],
   "source": [
    "sumes(9,3)"
   ]
  },
  {
   "cell_type": "code",
   "execution_count": null,
   "id": "2a72ab69",
   "metadata": {},
   "outputs": [],
   "source": []
  }
 ],
 "metadata": {
  "kernelspec": {
   "display_name": "Python 3",
   "language": "python",
   "name": "python3"
  },
  "language_info": {
   "codemirror_mode": {
    "name": "ipython",
    "version": 3
   },
   "file_extension": ".py",
   "mimetype": "text/x-python",
   "name": "python",
   "nbconvert_exporter": "python",
   "pygments_lexer": "ipython3",
   "version": "3.8.5"
  }
 },
 "nbformat": 4,
 "nbformat_minor": 5
}
