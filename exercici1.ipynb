{
 "cells": [
  {
   "cell_type": "markdown",
   "id": "cd9ca188",
   "metadata": {},
   "source": [
    "### Exercici 1"
   ]
  },
  {
   "cell_type": "markdown",
   "id": "9c2e4716",
   "metadata": {},
   "source": [
    "#### Funció que et faci un resum estadístic bàsic de les dades d'un Array d’una dimensió."
   ]
  },
  {
   "cell_type": "code",
   "execution_count": null,
   "id": "dea98062",
   "metadata": {},
   "outputs": [],
   "source": [
    "import numpy as np\n",
    "import pandas as pd"
   ]
  },
  {
   "cell_type": "code",
   "execution_count": null,
   "id": "d7f8e43e",
   "metadata": {},
   "outputs": [],
   "source": [
    "def matriu(xx):\n",
    "    arr=np.array(xx)\n",
    "    if arr.ndim == 1:\n",
    "        df_describe = pd.DataFrame(arr)\n",
    "        desc = df_describe.describe()\n",
    "        print(desc)\n",
    "    else:\n",
    "        print('no és una matriu d\\'una dimensió')"
   ]
  },
  {
   "cell_type": "code",
   "execution_count": null,
   "id": "66942904",
   "metadata": {},
   "outputs": [],
   "source": [
    "matriu( [3,5, 6,7,3] )"
   ]
  },
  {
   "cell_type": "code",
   "execution_count": null,
   "id": "5f3bf9a8",
   "metadata": {},
   "outputs": [],
   "source": [
    "matriu( [[3,5, 6,7,3],[3,5, 6,7,3]] )"
   ]
  },
  {
   "cell_type": "code",
   "execution_count": null,
   "id": "21e4a83d",
   "metadata": {},
   "outputs": [],
   "source": []
  }
 ],
 "metadata": {
  "kernelspec": {
   "display_name": "Python 3",
   "language": "python",
   "name": "python3"
  },
  "language_info": {
   "codemirror_mode": {
    "name": "ipython",
    "version": 3
   },
   "file_extension": ".py",
   "mimetype": "text/x-python",
   "name": "python",
   "nbconvert_exporter": "python",
   "pygments_lexer": "ipython3",
   "version": "3.8.5"
  }
 },
 "nbformat": 4,
 "nbformat_minor": 5
}
