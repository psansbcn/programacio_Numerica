{
 "cells": [
  {
   "cell_type": "markdown",
   "id": "54cefce4",
   "metadata": {},
   "source": [
    "### Exercici 2"
   ]
  },
  {
   "cell_type": "markdown",
   "id": "3d988d6b",
   "metadata": {},
   "source": [
    "#### Funció que et generi un quadrat NxN de nombres aleatoris entre el 0 i el 100."
   ]
  },
  {
   "cell_type": "code",
   "execution_count": null,
   "id": "4928f519",
   "metadata": {},
   "outputs": [],
   "source": [
    "import numpy as np"
   ]
  },
  {
   "cell_type": "code",
   "execution_count": null,
   "id": "bd586a1b",
   "metadata": {},
   "outputs": [],
   "source": [
    "def quadrat(yy):\n",
    "    array = np.random.randint(101, size=(yy, yy))\n",
    "    print(array)"
   ]
  },
  {
   "cell_type": "code",
   "execution_count": null,
   "id": "ece5f968",
   "metadata": {},
   "outputs": [],
   "source": [
    "quadrat(2)"
   ]
  },
  {
   "cell_type": "code",
   "execution_count": null,
   "id": "546bd1be",
   "metadata": {},
   "outputs": [],
   "source": [
    "quadrat(8)"
   ]
  },
  {
   "cell_type": "code",
   "execution_count": null,
   "id": "f6bb5273",
   "metadata": {},
   "outputs": [],
   "source": []
  }
 ],
 "metadata": {
  "kernelspec": {
   "display_name": "Python 3",
   "language": "python",
   "name": "python3"
  },
  "language_info": {
   "codemirror_mode": {
    "name": "ipython",
    "version": 3
   },
   "file_extension": ".py",
   "mimetype": "text/x-python",
   "name": "python",
   "nbconvert_exporter": "python",
   "pygments_lexer": "ipython3",
   "version": "3.8.5"
  }
 },
 "nbformat": 4,
 "nbformat_minor": 5
}
